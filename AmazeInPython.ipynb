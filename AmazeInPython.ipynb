{
 "cells": [
  {
   "cell_type": "code",
   "execution_count": 49,
   "metadata": {},
   "outputs": [],
   "source": [
    "from classe_maze import *"
   ]
  },
  {
   "attachments": {},
   "cell_type": "markdown",
   "metadata": {},
   "source": [
    "# SAE A Maze In Python"
   ]
  },
  {
   "attachments": {},
   "cell_type": "markdown",
   "metadata": {},
   "source": [
    "# **1 Préambule**"
   ]
  },
  {
   "attachments": {},
   "cell_type": "markdown",
   "metadata": {},
   "source": [
    "SAE à rendre pour au plus tard le <u>**15 mars 2023 a 23h59**</u>."
   ]
  },
  {
   "attachments": {},
   "cell_type": "markdown",
   "metadata": {},
   "source": [
    "# **2 Modélisation d’un labyrinthe**"
   ]
  },
  {
   "attachments": {},
   "cell_type": "markdown",
   "metadata": {},
   "source": [
    "<u> Sommets du graphe : </u>\n",
    "\n",
    "(0, 0), (0, 1), (0, 2), (0, 3), (1, 0), (1, 1), (1, 2), (1, 3), (2, 0), (2, 1), (2, 2), (2, 3), (3, 0), (3, 1), (3, 2), (3, 3)\n",
    "\n",
    "<u>Arrêtes du graphe :</u>\n",
    "\n",
    "{(0, 0), (1, 0)}, {(1, 0), (2, 0)}, {(2, 0), (3, 0)}, {(2, 0), (2, 1)}, ...\n",
    "\n",
    "<u>Successeurs du graphes :</u>\n",
    "\n",
    "{ (0, 0): {(1, 0)}, (0, 1): {(0, 2), (1, 1)}, (0, 2): {(0, 1), (0, 3)}, (0, 3): {(0, 2), (1, 3)}, (1, 0): {(2, 0), (0, 0)}, (1, 1): {(0, 1), (1, 2)}, (1, 2): {(1, 1), (2, 2)}, (1, 3): {(2, 3), (0, 3)}, (2, 0): {(1, 0), (2, 1), (3, 0)}, (2, 1): {(2, 0), (2, 2)}, (2, 2): {(1, 2), (2, 1)}, (2, 3): {(3, 3), (1, 3)}, (3, 0): {(3, 1), (2, 0)}, (3, 1): {(3, 2), (3, 0)}, (3, 2): {(3, 1)}, (3, 3): {(2, 3)} }\n"
   ]
  },
  {
   "attachments": {},
   "cell_type": "markdown",
   "metadata": {},
   "source": [
    "# **3 Implémentation**"
   ]
  },
  {
   "attachments": {},
   "cell_type": "markdown",
   "metadata": {},
   "source": [
    "#### **La classe Maze par défaut**"
   ]
  },
  {
   "attachments": {},
   "cell_type": "markdown",
   "metadata": {},
   "source": [
    "<u>**Attributs de la classe :**</u>\n",
    "\n",
    "**height**, le nombre de lignes (int) de la grille du labyrinthe (autrement dit, la hauteur, en nombre de cellules).\n",
    "\n",
    "**width**, le nombre de colonnes (int) de la grille du labyrinthe (autrement dit, la hauteur, en nombre de cellules).\n",
    "\n",
    "**neighbors** : un dictionnaire (dict) qui associe à chaque cellule, un set contenant ses voisines (c’est-à-dire les cellules qu’on peut atteindre en un déplacement1, sans être bloqué par un mur)."
   ]
  },
  {
   "attachments": {},
   "cell_type": "markdown",
   "metadata": {},
   "source": [
    "<u>**Rappel du code :**</u>"
   ]
  },
  {
   "attachments": {},
   "cell_type": "markdown",
   "metadata": {},
   "source": [
    "    class Maze:\n",
    "        \"\"\"\n",
    "        Classe Labyrinthe\n",
    "        Représentation sous forme de graphe non-orienté\n",
    "        dont chaque sommet est une cellule (un tuple (l,c))\n",
    "        et dont la structure est représentée par un dictionnaire\n",
    "        - clés : sommets\n",
    "        - valeurs : ensemble des sommets voisins accessibles\n",
    "        \"\"\"\n",
    "        def __init__(self, height, width):\n",
    "            \"\"\"\n",
    "            Constructeur d'un labyrinthe de height cellules de haut \n",
    "            et de width cellules de large \n",
    "            Les voisinages sont initialisés à des ensembles vides\n",
    "            Remarque : dans le labyrinthe créé, chaque cellule est complètement emmurée\n",
    "            \"\"\"\n",
    "            self.height    = height\n",
    "            self.width     = width\n",
    "            self.neighbors = {(i,j): set() for i in range(height) for j in range (width)}\n",
    "\n",
    "        def info(self):\n",
    "            \"\"\"\n",
    "            **NE PAS MODIFIER CETTE MÉTHODE**\n",
    "            Affichage des attributs d'un objet 'Maze' (fonction utile pour deboguer)\n",
    "            Retour:\n",
    "                chaîne (string): description textuelle des attributs de l'objet\n",
    "            \"\"\"\n",
    "            txt = \"**Informations sur le labyrinthe**\\n\"\n",
    "            txt += f\"- Dimensions de la grille : {self.height} x {self.width}\\n\"\n",
    "            txt += \"- Voisinages :\\n\"\n",
    "            txt += str(self.neighbors)+\"\\n\"\n",
    "            valid = True\n",
    "            for c1 in {(i, j) for i in range(self.height) for j in range(self.width)}:\n",
    "                for c2 in self.neighbors[c1]:\n",
    "                    if c1 not in self.neighbors[c2]:\n",
    "                        valid = False\n",
    "                        break\n",
    "                else:\n",
    "                    continue\n",
    "                break\n",
    "            txt += \"- Structure cohérente\\n\" if valid else f\"- Structure incohérente : {c1} X {c2}\\n\"\n",
    "            return txt\n",
    "\n",
    "        def __str__(self):\n",
    "            \"\"\"\n",
    "            **NE PAS MODIFIER CETTE MÉTHODE**\n",
    "            Représentation textuelle d'un objet Maze (en utilisant des caractères ascii)\n",
    "            Retour:\n",
    "                chaîne (str) : chaîne de caractères représentant le labyrinthe\n",
    "            \"\"\"\n",
    "            txt = \"\"\n",
    "            # Première ligne\n",
    "            txt += \"┏\"\n",
    "            for j in range(self.width-1):\n",
    "                txt += \"━━━┳\"\n",
    "            txt += \"━━━┓\\n\"\n",
    "            txt += \"┃\"\n",
    "            for j in range(self.width-1):\n",
    "                txt += \"   ┃\" if (0,j+1) not in self.neighbors[(0,j)] else \"    \"\n",
    "            txt += \"   ┃\\n\"\n",
    "            # Lignes normales\n",
    "            for i in range(self.height-1):\n",
    "                txt += \"┣\"\n",
    "                for j in range(self.width-1):\n",
    "                    txt += \"━━━╋\" if (i+1,j) not in self.neighbors[(i,j)] else \"   ╋\"\n",
    "                txt += \"━━━┫\\n\" if (i+1,self.width-1) not in self.neighbors[(i,self.width-1)] else \"   ┫\\n\"\n",
    "                txt += \"┃\"\n",
    "                for j in range(self.width):\n",
    "                    txt += \"   ┃\" if (i+1,j+1) not in self.neighbors[(i+1,j)] else \"    \"\n",
    "                txt += \"\\n\"\n",
    "            # Bas du tableau\n",
    "            txt += \"┗\"\n",
    "            for i in range(self.width-1):\n",
    "                txt += \"━━━┻\"\n",
    "            txt += \"━━━┛\\n\"\n",
    "\n",
    "            return txt"
   ]
  },
  {
   "attachments": {},
   "cell_type": "markdown",
   "metadata": {},
   "source": [
    "<br>\n",
    "<br>\n",
    "\n",
    "#### **Ajouter / Enlever un mur**\n"
   ]
  },
  {
   "attachments": {},
   "cell_type": "markdown",
   "metadata": {},
   "source": [
    "- **Ajouter** un mur entre une cellule c1 et une cellule c2 revient à **diminuer deux** voisinages, d’une cellule chacun ; il faut retirer c1 du voisinage de c2 **et** retirer c2 du voisinage de c1 .  \n",
    "\n",
    "> ``laby.neighbors[(i, j)].remove((y,x))``\n",
    "\n",
    "- **Casser** un mur entre une cellule c1 et une cellule c2 revient à **augmenter deux** voisinages ; il faut ajouter c1 au voisinage de c2 **et** ajouter c2 au voisinage de c1.  \n",
    "\n",
    "> ``laby.neighbors[(i, j)].add((y,x))``\n",
    "\n",
    "La méthode **info()** fournie teste la cohérence des voisinages en vérifiant que, dès lors qu’une cellule c1 est dans le voisinage d’une cellule c2, alors c2 est aussi dans le voisinage de c1."
   ]
  },
  {
   "attachments": {},
   "cell_type": "markdown",
   "metadata": {},
   "source": [
    "<br>\n",
    "<br>\n",
    "\n",
    "#### **A Faire**\n",
    "\n",
    "Modifier le constructeur par défaut en lui ajoutant l’argument **empty**, un booléen qui indique si le graphe doit être créé avec aucun mur, ou avec tous les murs.  \n",
    "\n",
    "Modifier le corps de la méthode de telle manière que :  \n",
    "\n",
    "- si **empty** vaut **True**, chaque cellule a pour voisines celles qui lui sont contigües dans la grille ;\n",
    "- si **empty** vaut **False**, aucune cellule n’a de voisines.  \n",
    "\n",
    "<br>"
   ]
  },
  {
   "cell_type": "code",
   "execution_count": null,
   "metadata": {},
   "outputs": [
    {
     "name": "stdout",
     "output_type": "stream",
     "text": [
      "{(0, 0): {(0, 1), (1, 0)}, (0, 1): {(1, 1), (0, 2), (0, 0)}, (0, 2): {(0, 1), (1, 2), (0, 3)}, (0, 3): {(1, 3), (0, 2), (0, 4)}, (0, 4): {(0, 3), (1, 4)}, (1, 0): {(1, 1), (2, 0), (0, 0)}, (1, 1): {(0, 1), (1, 0), (1, 2), (2, 1)}, (1, 2): {(1, 1), (0, 2), (1, 3), (2, 2)}, (1, 3): {(2, 3), (1, 2), (0, 3), (1, 4)}, (1, 4): {(1, 3), (2, 4), (0, 4)}, (2, 0): {(1, 0), (2, 1), (3, 0)}, (2, 1): {(3, 1), (1, 1), (2, 0), (2, 2)}, (2, 2): {(2, 3), (3, 2), (1, 2), (2, 1)}, (2, 3): {(2, 4), (3, 3), (1, 3), (2, 2)}, (2, 4): {(2, 3), (3, 4), (1, 4)}, (3, 0): {(3, 1), (4, 0), (2, 0)}, (3, 1): {(3, 2), (4, 1), (2, 1), (3, 0)}, (3, 2): {(3, 1), (3, 3), (4, 2), (2, 2)}, (3, 3): {(2, 3), (3, 2), (3, 4), (4, 3)}, (3, 4): {(4, 4), (2, 4), (3, 3)}, (4, 0): {(4, 1), (3, 0)}, (4, 1): {(3, 1), (4, 0), (4, 2)}, (4, 2): {(3, 2), (4, 1), (4, 3)}, (4, 3): {(4, 4), (3, 3), (4, 2)}, (4, 4): {(3, 4), (4, 3)}}\n",
      "┏━━━┳━━━┳━━━┳━━━┳━━━┓\n",
      "┃                   ┃\n",
      "┣   ╋   ╋   ╋   ╋   ┫\n",
      "┃                   ┃\n",
      "┣   ╋   ╋   ╋   ╋   ┫\n",
      "┃                   ┃\n",
      "┣   ╋   ╋   ╋   ╋   ┫\n",
      "┃                   ┃\n",
      "┣   ╋   ╋   ╋   ╋   ┫\n",
      "┃                   ┃\n",
      "┗━━━┻━━━┻━━━┻━━━┻━━━┛\n",
      "\n"
     ]
    }
   ],
   "source": [
    "laby = Maze(5, 5, empty = True)\n",
    "print(laby.neighbors)\n",
    "print(laby)"
   ]
  },
  {
   "cell_type": "code",
   "execution_count": null,
   "metadata": {},
   "outputs": [
    {
     "name": "stdout",
     "output_type": "stream",
     "text": [
      "{(0, 0): set(), (0, 1): set(), (0, 2): set(), (0, 3): set(), (0, 4): set(), (1, 0): set(), (1, 1): set(), (1, 2): set(), (1, 3): set(), (1, 4): set(), (2, 0): set(), (2, 1): set(), (2, 2): set(), (2, 3): set(), (2, 4): set(), (3, 0): set(), (3, 1): set(), (3, 2): set(), (3, 3): set(), (3, 4): set(), (4, 0): set(), (4, 1): set(), (4, 2): set(), (4, 3): set(), (4, 4): set()}\n",
      "┏━━━┳━━━┳━━━┳━━━┳━━━┓\n",
      "┃   ┃   ┃   ┃   ┃   ┃\n",
      "┣━━━╋━━━╋━━━╋━━━╋━━━┫\n",
      "┃   ┃   ┃   ┃   ┃   ┃\n",
      "┣━━━╋━━━╋━━━╋━━━╋━━━┫\n",
      "┃   ┃   ┃   ┃   ┃   ┃\n",
      "┣━━━╋━━━╋━━━╋━━━╋━━━┫\n",
      "┃   ┃   ┃   ┃   ┃   ┃\n",
      "┣━━━╋━━━╋━━━╋━━━╋━━━┫\n",
      "┃   ┃   ┃   ┃   ┃   ┃\n",
      "┗━━━┻━━━┻━━━┻━━━┻━━━┛\n",
      "\n"
     ]
    }
   ],
   "source": [
    "laby = Maze(5, 5, empty = False)\n",
    "print(laby.neighbors)\n",
    "print(laby)"
   ]
  }
 ],
 "metadata": {
  "kernelspec": {
   "display_name": "Python 3.9.11 64-bit",
   "language": "python",
   "name": "python3"
  },
  "language_info": {
   "codemirror_mode": {
    "name": "ipython",
    "version": 3
   },
   "file_extension": ".py",
   "mimetype": "text/x-python",
   "name": "python",
   "nbconvert_exporter": "python",
   "pygments_lexer": "ipython3",
   "version": "3.9.11"
  },
  "orig_nbformat": 4,
  "vscode": {
   "interpreter": {
    "hash": "ce513bf6edc7d59f12ef93630a20368786f328a24bb65f5280113f6f7a6321c9"
   }
  }
 },
 "nbformat": 4,
 "nbformat_minor": 2
}
