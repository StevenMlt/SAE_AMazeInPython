{
 "cells": [
  {
   "cell_type": "code",
   "execution_count": 48,
   "metadata": {},
   "outputs": [],
   "source": [
    "from classe_maze import *"
   ]
  },
  {
   "attachments": {},
   "cell_type": "markdown",
   "metadata": {},
   "source": [
    "# <u>**SAE A Maze In Python**</u>\n",
    "\n",
    "#### FRAILLON Mathis - MORLET Steven"
   ]
  },
  {
   "attachments": {},
   "cell_type": "markdown",
   "metadata": {},
   "source": [
    "<br>\n",
    "\n",
    "### **Table des matières :**\n",
    "\n",
    "1. **[Préambule](#1-préambule-1)**\n",
    "2. **[Modélisation d'un labyrinthe](#2-modélisation-dun-labyrinthe)**\n",
    "3. **[Implémentation](#3-implémentation)**\n",
    "4. **[Manipulation de labyrinthes](#4-manipulation-de-labyrinthes)**\n",
    "5. **[Génération](#5-génération)**\n",
    "    1. [Arbre binaire](#51-arbre-binaire)\n",
    "    2. [Sidewinder](#52-sidewinder)\n",
    "    3. [Fusion de chemins](#53-fusion-de-chemins)\n",
    "    4. [Exploration exhaustive](#54-exploration-exhaustive)\n",
    "    5. [L'algorithme de Wilson](#55-lalgorithme-de-wilson)\n",
    "6. **[Résolution](#6-résolution)**\n",
    "    1. [Résolution par parcours](#61-résolution-par-parcours)\n",
    "    2. [Résolution en aveugle : \"la main droite\"](#62-résolution-en-aveugle---la-main-droite)\n",
    "7. **[Evaluation](#7-evaluation)**\n",
    "\n",
    "<br>"
   ]
  },
  {
   "attachments": {},
   "cell_type": "markdown",
   "metadata": {},
   "source": [
    "<br>\n",
    "\n",
    "# **1 Préambule**\n",
    "\n",
    "[Table des matières](#table-des-matières)"
   ]
  },
  {
   "cell_type": "markdown",
   "metadata": {},
   "source": [
    "SAE à rendre pour au plus tard le <u>**15 mars 2023 a 23h59**</u>."
   ]
  },
  {
   "attachments": {},
   "cell_type": "markdown",
   "metadata": {},
   "source": [
    "<br>\n",
    "<br>\n",
    "<br>\n",
    "\n",
    "# **2 Modélisation d’un labyrinthe**\n",
    "\n",
    "[Table des matières](#table-des-matières)"
   ]
  },
  {
   "cell_type": "markdown",
   "metadata": {},
   "source": [
    "<u>**Sommets du graphe :**</u>\n",
    "\n",
    "(0, 0), (0, 1), (0, 2), (0, 3), (1, 0), (1, 1), (1, 2), (1, 3), (2, 0), (2, 1), (2, 2), (2, 3), (3, 0), (3, 1), (3, 2), (3, 3)\n",
    "\n",
    "<u>**Arrêtes du graphe :**</u>\n",
    "\n",
    "{(0, 0), (1, 0)}, {(1, 0), (2, 0)}, {(2, 0), (3, 0)}, {(2, 0), (2, 1)}, ...\n",
    "\n",
    "<u>**Successeurs du graphes :**</u>\n",
    "\n",
    "{ (0, 0): {(1, 0)}, (0, 1): {(0, 2), (1, 1)}, (0, 2): {(0, 1), (0, 3)}, (0, 3): {(0, 2), (1, 3)}, (1, 0): {(2, 0), (0, 0)}, (1, 1): {(0, 1), (1, 2)}, (1, 2): {(1, 1), (2, 2)}, (1, 3): {(2, 3), (0, 3)}, (2, 0): {(1, 0), (2, 1), (3, 0)}, (2, 1): {(2, 0), (2, 2)}, (2, 2): {(1, 2), (2, 1)}, (2, 3): {(3, 3), (1, 3)}, (3, 0): {(3, 1), (2, 0)}, (3, 1): {(3, 2), (3, 0)}, (3, 2): {(3, 1)}, (3, 3): {(2, 3)} }\n"
   ]
  },
  {
   "attachments": {},
   "cell_type": "markdown",
   "metadata": {},
   "source": [
    "<br>\n",
    "<br>\n",
    "<br>\n",
    "\n",
    "# **3 Implémentation**\n",
    "\n",
    "[Table des matières](#table-des-matières)\n",
    "\n",
    "<br>"
   ]
  },
  {
   "attachments": {},
   "cell_type": "markdown",
   "metadata": {},
   "source": [
    "#### **La classe Maze par défaut**\n",
    "\n",
    "<br>"
   ]
  },
  {
   "attachments": {},
   "cell_type": "markdown",
   "metadata": {},
   "source": [
    "<u>**Attributs de la classe :**</u>\n",
    "\n",
    "**Height**, le nombre de lignes (int) de la grille du labyrinthe (autrement dit, la hauteur, en nombre de cellules).\n",
    "\n",
    "**Width**, le nombre de colonnes (int) de la grille du labyrinthe (autrement dit, la hauteur, en nombre de cellules).\n",
    "\n",
    "**Neighbors** : un dictionnaire (dict) qui associe à chaque cellule, un set contenant ses voisines (c’est-à-dire les cellules qu’on peut atteindre en un déplacement1, sans être bloqué par un mur).\n",
    "\n",
    "<br>"
   ]
  },
  {
   "cell_type": "markdown",
   "metadata": {},
   "source": [
    "<u>**Rappel du code :**</u>"
   ]
  },
  {
   "cell_type": "markdown",
   "metadata": {},
   "source": [
    "    class Maze:\n",
    "        \"\"\"\n",
    "        Classe Labyrinthe\n",
    "        Représentation sous forme de graphe non-orienté\n",
    "        dont chaque sommet est une cellule (un tuple (l,c))\n",
    "        et dont la structure est représentée par un dictionnaire\n",
    "        - clés : sommets\n",
    "        - valeurs : ensemble des sommets voisins accessibles\n",
    "        \"\"\"\n",
    "        def __init__(self, height, width):\n",
    "            \"\"\"\n",
    "            Constructeur d'un labyrinthe de height cellules de haut \n",
    "            et de width cellules de large \n",
    "            Les voisinages sont initialisés à des ensembles vides\n",
    "            Remarque : dans le labyrinthe créé, chaque cellule est complètement emmurée\n",
    "            \"\"\"\n",
    "            self.height    = height\n",
    "            self.width     = width\n",
    "            self.neighbors = {(i,j): set() for i in range(height) for j in range (width)}\n",
    "\n",
    "        def info(self):\n",
    "            \"\"\"\n",
    "            **NE PAS MODIFIER CETTE MÉTHODE**\n",
    "            Affichage des attributs d'un objet 'Maze' (fonction utile pour deboguer)\n",
    "            Retour:\n",
    "                chaîne (string): description textuelle des attributs de l'objet\n",
    "            \"\"\"\n",
    "            txt = \"**Informations sur le labyrinthe**\\n\"\n",
    "            txt += f\"- Dimensions de la grille : {self.height} x {self.width}\\n\"\n",
    "            txt += \"- Voisinages :\\n\"\n",
    "            txt += str(self.neighbors)+\"\\n\"\n",
    "            valid = True\n",
    "            for c1 in {(i, j) for i in range(self.height) for j in range(self.width)}:\n",
    "                for c2 in self.neighbors[c1]:\n",
    "                    if c1 not in self.neighbors[c2]:\n",
    "                        valid = False\n",
    "                        break\n",
    "                else:\n",
    "                    continue\n",
    "                break\n",
    "            txt += \"- Structure cohérente\\n\" if valid else f\"- Structure incohérente : {c1} X {c2}\\n\"\n",
    "            return txt\n",
    "\n",
    "        def __str__(self):\n",
    "            \"\"\"\n",
    "            **NE PAS MODIFIER CETTE MÉTHODE**\n",
    "            Représentation textuelle d'un objet Maze (en utilisant des caractères ascii)\n",
    "            Retour:\n",
    "                chaîne (str) : chaîne de caractères représentant le labyrinthe\n",
    "            \"\"\"\n",
    "            txt = \"\"\n",
    "            # Première ligne\n",
    "            txt += \"┏\"\n",
    "            for j in range(self.width-1):\n",
    "                txt += \"━━━┳\"\n",
    "            txt += \"━━━┓\\n\"\n",
    "            txt += \"┃\"\n",
    "            for j in range(self.width-1):\n",
    "                txt += \"   ┃\" if (0,j+1) not in self.neighbors[(0,j)] else \"    \"\n",
    "            txt += \"   ┃\\n\"\n",
    "            # Lignes normales\n",
    "            for i in range(self.height-1):\n",
    "                txt += \"┣\"\n",
    "                for j in range(self.width-1):\n",
    "                    txt += \"━━━╋\" if (i+1,j) not in self.neighbors[(i,j)] else \"   ╋\"\n",
    "                txt += \"━━━┫\\n\" if (i+1,self.width-1) not in self.neighbors[(i,self.width-1)] else \"   ┫\\n\"\n",
    "                txt += \"┃\"\n",
    "                for j in range(self.width):\n",
    "                    txt += \"   ┃\" if (i+1,j+1) not in self.neighbors[(i+1,j)] else \"    \"\n",
    "                txt += \"\\n\"\n",
    "            # Bas du tableau\n",
    "            txt += \"┗\"\n",
    "            for i in range(self.width-1):\n",
    "                txt += \"━━━┻\"\n",
    "            txt += \"━━━┛\\n\"\n",
    "\n",
    "            return txt"
   ]
  },
  {
   "cell_type": "markdown",
   "metadata": {},
   "source": [
    "<br>\n",
    "<br>\n",
    "\n",
    "#### **Ajouter / Enlever un mur**\n"
   ]
  },
  {
   "cell_type": "markdown",
   "metadata": {},
   "source": [
    "- **Ajouter** un mur entre une cellule c1 et une cellule c2 revient à **diminuer deux** voisinages, d’une cellule chacun ; il faut retirer c1 du voisinage de c2 **et** retirer c2 du voisinage de c1 .  \n",
    "\n",
    "> ``laby.neighbors[(i, j)].remove((y,x))``\n",
    "\n",
    "- **Casser** un mur entre une cellule c1 et une cellule c2 revient à **augmenter deux** voisinages ; il faut ajouter c1 au voisinage de c2 **et** ajouter c2 au voisinage de c1.  \n",
    "\n",
    "> ``laby.neighbors[(i, j)].add((y,x))``\n",
    "\n",
    "La méthode **info()** fournie teste la cohérence des voisinages en vérifiant que, dès lors qu’une cellule c1 est dans le voisinage d’une cellule c2, alors c2 est aussi dans le voisinage de c1."
   ]
  },
  {
   "cell_type": "markdown",
   "metadata": {},
   "source": [
    "<br>\n",
    "<br>\n",
    "\n",
    "#### **A Faire 1**\n",
    "\n",
    "Modifier le constructeur par défaut en lui ajoutant l’argument **empty**, un booléen qui indique si le graphe doit être créé avec aucun mur, ou avec tous les murs.  \n",
    "\n",
    "Modifier le corps de la méthode de telle manière que :  \n",
    "\n",
    "- si **empty** vaut **True**, chaque cellule a pour voisines celles qui lui sont contigües dans la grille ;\n",
    "- si **empty** vaut **False**, aucune cellule n’a de voisines.  \n",
    "\n",
    "<br>"
   ]
  },
  {
   "cell_type": "code",
   "execution_count": 49,
   "metadata": {},
   "outputs": [
    {
     "name": "stdout",
     "output_type": "stream",
     "text": [
      "{(0, 0): {(0, 1), (1, 0)}, (0, 1): {(1, 1), (0, 2), (0, 0)}, (0, 2): {(0, 1), (1, 2), (0, 3)}, (0, 3): {(1, 3), (0, 2), (0, 4)}, (0, 4): {(0, 3), (1, 4)}, (1, 0): {(1, 1), (2, 0), (0, 0)}, (1, 1): {(0, 1), (1, 0), (1, 2), (2, 1)}, (1, 2): {(1, 1), (0, 2), (1, 3), (2, 2)}, (1, 3): {(2, 3), (1, 2), (0, 3), (1, 4)}, (1, 4): {(1, 3), (2, 4), (0, 4)}, (2, 0): {(1, 0), (2, 1), (3, 0)}, (2, 1): {(3, 1), (1, 1), (2, 0), (2, 2)}, (2, 2): {(2, 3), (3, 2), (1, 2), (2, 1)}, (2, 3): {(2, 4), (3, 3), (1, 3), (2, 2)}, (2, 4): {(2, 3), (3, 4), (1, 4)}, (3, 0): {(3, 1), (4, 0), (2, 0)}, (3, 1): {(3, 2), (4, 1), (2, 1), (3, 0)}, (3, 2): {(3, 1), (3, 3), (4, 2), (2, 2)}, (3, 3): {(2, 3), (3, 2), (3, 4), (4, 3)}, (3, 4): {(4, 4), (2, 4), (3, 3)}, (4, 0): {(4, 1), (3, 0)}, (4, 1): {(3, 1), (4, 0), (4, 2)}, (4, 2): {(3, 2), (4, 1), (4, 3)}, (4, 3): {(4, 4), (3, 3), (4, 2)}, (4, 4): {(3, 4), (4, 3)}}\n",
      "┏━━━┳━━━┳━━━┳━━━┳━━━┓\n",
      "┃                   ┃\n",
      "┣   ╋   ╋   ╋   ╋   ┫\n",
      "┃                   ┃\n",
      "┣   ╋   ╋   ╋   ╋   ┫\n",
      "┃                   ┃\n",
      "┣   ╋   ╋   ╋   ╋   ┫\n",
      "┃                   ┃\n",
      "┣   ╋   ╋   ╋   ╋   ┫\n",
      "┃                   ┃\n",
      "┗━━━┻━━━┻━━━┻━━━┻━━━┛\n",
      "\n"
     ]
    }
   ],
   "source": [
    "laby = Maze(5, 5, empty = True)\n",
    "print(laby.neighbors)\n",
    "print(laby)"
   ]
  },
  {
   "cell_type": "code",
   "execution_count": 50,
   "metadata": {},
   "outputs": [
    {
     "name": "stdout",
     "output_type": "stream",
     "text": [
      "{(0, 0): set(), (0, 1): set(), (0, 2): set(), (0, 3): set(), (0, 4): set(), (1, 0): set(), (1, 1): set(), (1, 2): set(), (1, 3): set(), (1, 4): set(), (2, 0): set(), (2, 1): set(), (2, 2): set(), (2, 3): set(), (2, 4): set(), (3, 0): set(), (3, 1): set(), (3, 2): set(), (3, 3): set(), (3, 4): set(), (4, 0): set(), (4, 1): set(), (4, 2): set(), (4, 3): set(), (4, 4): set()}\n",
      "┏━━━┳━━━┳━━━┳━━━┳━━━┓\n",
      "┃   ┃   ┃   ┃   ┃   ┃\n",
      "┣━━━╋━━━╋━━━╋━━━╋━━━┫\n",
      "┃   ┃   ┃   ┃   ┃   ┃\n",
      "┣━━━╋━━━╋━━━╋━━━╋━━━┫\n",
      "┃   ┃   ┃   ┃   ┃   ┃\n",
      "┣━━━╋━━━╋━━━╋━━━╋━━━┫\n",
      "┃   ┃   ┃   ┃   ┃   ┃\n",
      "┣━━━╋━━━╋━━━╋━━━╋━━━┫\n",
      "┃   ┃   ┃   ┃   ┃   ┃\n",
      "┗━━━┻━━━┻━━━┻━━━┻━━━┛\n",
      "\n"
     ]
    }
   ],
   "source": [
    "laby = Maze(5, 5, empty = False)\n",
    "print(laby.neighbors)\n",
    "print(laby)"
   ]
  },
  {
   "attachments": {},
   "cell_type": "markdown",
   "metadata": {},
   "source": [
    "<br>\n",
    "<br>\n",
    "<br>\n",
    "\n",
    "# **4 Manipulation de labyrinthes**\n",
    "\n",
    "[Table des matières](#table-des-matières)\n",
    "\n",
    "<br>"
   ]
  },
  {
   "attachments": {},
   "cell_type": "markdown",
   "metadata": {},
   "source": [
    "<br>\n",
    "\n",
    "#### **A Faire 2**\n",
    "\n",
    "Écrire les méthodes d’instance suivantes :  \n",
    "\n",
    "- **remove_wall(c1, c2)** qui supprime un mur entre deux cellules\n",
    "- **get_walls()** qui retourne la liste de **tous les murs** sous la forme d’une liste de **tuple** de cellules\n",
    "- **fill()** qui ajoute tous les murs possibles dans le labyrinthe\n",
    "- **empty()** qui supprime tous les murs du labyrinthe  \n",
    "( /!\\ **Ici on renomme la méthode empty() en be_empty() à cause d'une erreur renvoyée par notre éditeur** /!\\ )\n",
    "\n",
    "- **get_contiguous_cells(c)** qui retourne la liste des cellules contigües à **c dans la grille** (sans s’occuper des éventuels murs)\n",
    "- **get_reachable_cells(c)** qui retourne la liste des cellules accessibles depuis **c** (c’est-à-dire les cellules contiguës à c qui sont dans le voisinage de c)\n",
    "\n",
    "<br>"
   ]
  },
  {
   "cell_type": "markdown",
   "metadata": {},
   "source": [
    "<u> Tests d'utilisation de ces méthodes : </u>"
   ]
  },
  {
   "cell_type": "code",
   "execution_count": 51,
   "metadata": {},
   "outputs": [
    {
     "name": "stdout",
     "output_type": "stream",
     "text": [
      "┏━━━┳━━━┳━━━┳━━━┳━━━┓\n",
      "┃   ┃   ┃   ┃   ┃   ┃\n",
      "┣━━━╋━━━╋━━━╋━━━╋━━━┫\n",
      "┃   ┃   ┃   ┃   ┃   ┃\n",
      "┣━━━╋━━━╋━━━╋━━━╋━━━┫\n",
      "┃   ┃   ┃   ┃   ┃   ┃\n",
      "┣━━━╋━━━╋━━━╋━━━╋━━━┫\n",
      "┃   ┃   ┃   ┃   ┃   ┃\n",
      "┣━━━╋━━━╋━━━╋━━━╋━━━┫\n",
      "┃   ┃   ┃   ┃   ┃   ┃\n",
      "┗━━━┻━━━┻━━━┻━━━┻━━━┛\n",
      "\n"
     ]
    }
   ],
   "source": [
    "laby = Maze(5, 5, empty = True)\n",
    "laby.fill()\n",
    "print(laby)"
   ]
  },
  {
   "cell_type": "code",
   "execution_count": 52,
   "metadata": {},
   "outputs": [
    {
     "name": "stdout",
     "output_type": "stream",
     "text": [
      "┏━━━┳━━━┳━━━┳━━━┳━━━┓\n",
      "┃       ┃   ┃   ┃   ┃\n",
      "┣━━━╋━━━╋━━━╋━━━╋━━━┫\n",
      "┃   ┃   ┃   ┃   ┃   ┃\n",
      "┣━━━╋━━━╋━━━╋━━━╋━━━┫\n",
      "┃   ┃   ┃   ┃   ┃   ┃\n",
      "┣━━━╋━━━╋━━━╋━━━╋━━━┫\n",
      "┃   ┃   ┃   ┃   ┃   ┃\n",
      "┣━━━╋━━━╋━━━╋━━━╋━━━┫\n",
      "┃   ┃   ┃   ┃   ┃   ┃\n",
      "┗━━━┻━━━┻━━━┻━━━┻━━━┛\n",
      "\n"
     ]
    }
   ],
   "source": [
    "laby.remove_wall((0, 0), (0, 1))\n",
    "print(laby)"
   ]
  },
  {
   "cell_type": "code",
   "execution_count": 53,
   "metadata": {},
   "outputs": [
    {
     "name": "stdout",
     "output_type": "stream",
     "text": [
      "┏━━━┳━━━┳━━━┳━━━┳━━━┓\n",
      "┃   ┃               ┃\n",
      "┣   ╋━━━╋   ╋   ╋   ┫\n",
      "┃                   ┃\n",
      "┣   ╋   ╋   ╋   ╋   ┫\n",
      "┃                   ┃\n",
      "┣   ╋   ╋   ╋   ╋   ┫\n",
      "┃                   ┃\n",
      "┣   ╋   ╋   ╋   ╋   ┫\n",
      "┃                   ┃\n",
      "┗━━━┻━━━┻━━━┻━━━┻━━━┛\n",
      "\n"
     ]
    }
   ],
   "source": [
    "laby.be_empty()\n",
    "laby.add_wall((0, 0), (0, 1))\n",
    "laby.add_wall((0, 1), (1, 1))\n",
    "print(laby)"
   ]
  },
  {
   "cell_type": "code",
   "execution_count": 54,
   "metadata": {},
   "outputs": [
    {
     "name": "stdout",
     "output_type": "stream",
     "text": [
      "[[(0, 0), (0, 1)], [(0, 1), (1, 1)]]\n"
     ]
    }
   ],
   "source": [
    "print(laby.get_walls())"
   ]
  },
  {
   "cell_type": "code",
   "execution_count": 55,
   "metadata": {},
   "outputs": [
    {
     "name": "stdout",
     "output_type": "stream",
     "text": [
      "[(1, 1), (0, 0), (0, 2)]\n"
     ]
    }
   ],
   "source": [
    "print(laby.get_contiguous_cells((0,1)))"
   ]
  },
  {
   "cell_type": "code",
   "execution_count": 56,
   "metadata": {},
   "outputs": [
    {
     "name": "stdout",
     "output_type": "stream",
     "text": [
      "[(0, 2)]\n"
     ]
    }
   ],
   "source": [
    "print(laby.get_reachable_cells((0,1)))"
   ]
  },
  {
   "attachments": {},
   "cell_type": "markdown",
   "metadata": {},
   "source": [
    "<br>\n",
    "<br>\n",
    "<br>\n",
    "\n",
    "# **5 Génération**\n",
    "\n",
    "[Table des matières](#table-des-matières)\n",
    "\n",
    "<br>"
   ]
  },
  {
   "cell_type": "markdown",
   "metadata": {},
   "source": [
    "## 5.1 Arbre binaire\n",
    "\n",
    "<br>\n",
    "\n",
    "<u>**Algorithme de construction par arbre binaire**</u>\n",
    "\n",
    "```\n",
    "- Initialisation : un labyrinthe plein (contenant tous les murs possibles)\n",
    " \n",
    "- Pour chaque cellule du labyrinthe : \n",
    " \n",
    "    - Supprimer aléatoirement le mur EST ou le mur SUD (s’il n’en possède qu’un, supprimer ce mur ; s’il n’en possède aucun des deux, ne rien faire)\n",
    "```"
   ]
  },
  {
   "cell_type": "markdown",
   "metadata": {},
   "source": [
    "<br>\n",
    "\n",
    "#### **A Faire 3**\n",
    "\n",
    "Écrire une **méthode de classe gen_btree(h, w)** qui génère un labyrinthe à h lignes et w colonnes, en utilisant l’algorithme de construction par arbre binaire.  \n",
    "\n",
    "> Pour définir une méthode de classe en **python**, il est nécessaire de faire précéder la définition de la méthode par le décorateur **@classmethod**.\n",
    "\n",
    "<br>"
   ]
  },
  {
   "cell_type": "code",
   "execution_count": 57,
   "metadata": {},
   "outputs": [
    {
     "name": "stdout",
     "output_type": "stream",
     "text": [
      "┏━━━┳━━━┳━━━┳━━━┓\n",
      "┃   ┃   ┃   ┃   ┃\n",
      "┣   ╋   ╋   ╋   ┫\n",
      "┃   ┃       ┃   ┃\n",
      "┣   ╋━━━╋   ╋   ┫\n",
      "┃       ┃       ┃\n",
      "┣━━━╋   ╋━━━╋   ┫\n",
      "┃               ┃\n",
      "┗━━━┻━━━┻━━━┻━━━┛\n",
      "\n"
     ]
    }
   ],
   "source": [
    "laby = Maze.gen_btree(4,4)\n",
    "print(laby)"
   ]
  },
  {
   "cell_type": "markdown",
   "metadata": {},
   "source": [
    "<br>\n",
    "\n",
    "## 5.2 Sidewinder\n",
    "\n",
    "<br>\n",
    "\n",
    "<u>**Algorithme Sidewinder**</u>\n",
    " \n",
    "```\n",
    "- Initialisation : création d’un labyrinthe plein\n",
    "\n",
    "- Pour i allant de 0 à hauteur-2 :\n",
    "\n",
    "    - Initialiser une variable séquence comme liste vide\n",
    "    - Pour j allant de 0 à largeur-2 :\n",
    "        - Ajouter la cellule (i, j) à la séquence\n",
    "        - Tirer à pile ou face :\n",
    "            - Si c’est pile : Casser le mur EST de la cellule (i, j)\n",
    "            - Si c’est face :\n",
    "                - Casser le mur SUD d’une des cellules (choisie au hasard) qui constituent le séquence qui vient d’être terminée.\n",
    "                - Réinitialiser la séquence à une liste vide\n",
    "\n",
    "    - Ajouter la dernière cellule à la séquence\n",
    "    - Tirer une cellule au sort dans la séquence et casser son mur SUD\n",
    "\n",
    "- Casser tous les murs EST de la dernière ligne\n",
    "\n",
    "- Retourner le labyrinthe\n",
    "```"
   ]
  },
  {
   "cell_type": "markdown",
   "metadata": {},
   "source": [
    "<br>\n",
    "\n",
    "#### **A Faire 4**\n",
    "\n",
    "Écrire une **méthode de classe gen_sidewinder(h, w)** qui génère une labyrinthe à h lignes et w colonnes, en utilisant l’algorithme de construction par arbre binaire.\n",
    "\n",
    "<br>"
   ]
  },
  {
   "cell_type": "code",
   "execution_count": 58,
   "metadata": {},
   "outputs": [
    {
     "name": "stdout",
     "output_type": "stream",
     "text": [
      "┏━━━┳━━━┳━━━┳━━━┓\n",
      "┃   ┃   ┃       ┃\n",
      "┣   ╋   ╋   ╋━━━┫\n",
      "┃   ┃           ┃\n",
      "┣   ╋━━━╋━━━╋   ┫\n",
      "┃   ┃   ┃   ┃   ┃\n",
      "┣   ╋   ╋   ╋   ┫\n",
      "┃               ┃\n",
      "┗━━━┻━━━┻━━━┻━━━┛\n",
      "\n"
     ]
    }
   ],
   "source": [
    "laby = Maze.gen_sidewinder(4, 4)\n",
    "print(laby)"
   ]
  },
  {
   "cell_type": "markdown",
   "metadata": {},
   "source": [
    "<br>\n",
    "\n",
    "## 5.3 Fusion de chemins\n",
    "\n",
    "<br>\n",
    "\n",
    "<u>**Algorithme << par fusion de chemins >>**</u>\n",
    " \n",
    "```\n",
    "- Initialisation :\n",
    "    - on remplit le labyrinthe avec tous les murs possibles\n",
    "    - on labélise les cellules de 1 à \n",
    "    - on extrait la liste de tous les murs et on les « mélange » (on les permute aléatoirement)\n",
    "\n",
    "- Pour chaque mur de la liste :\n",
    "    - Si les deux cellules séparées par le mur n’ont pas le même label :\n",
    "        - casser le mur\n",
    "        - affecter le label de l’une des deux cellules, à l’autre, et à toutes celles qui ont le même label que la deuxième\n",
    "```"
   ]
  },
  {
   "cell_type": "markdown",
   "metadata": {},
   "source": [
    "<br>\n",
    "\n",
    "#### **A Faire 5**\n",
    "\n",
    "Écrire une **méthode de classe gen_fusion(h,w)** qui génère un labyrinthe, à h lignes et w colonnes, parfait, avec l’algorithme de **fusion de chemin**.\n",
    "\n",
    "<br>"
   ]
  },
  {
   "cell_type": "code",
   "execution_count": 59,
   "metadata": {},
   "outputs": [
    {
     "name": "stdout",
     "output_type": "stream",
     "text": [
      "┏━━━┳━━━┳━━━┳━━━┳━━━┳━━━┳━━━┳━━━┳━━━┳━━━┳━━━┳━━━┳━━━┳━━━┳━━━┓\n",
      "┃   ┃       ┃   ┃           ┃   ┃       ┃   ┃       ┃   ┃   ┃\n",
      "┣   ╋   ╋   ╋   ╋━━━╋   ╋   ╋   ╋   ╋━━━╋   ╋   ╋━━━╋   ╋   ┫\n",
      "┃       ┃       ┃   ┃   ┃   ┃       ┃           ┃   ┃       ┃\n",
      "┣━━━╋━━━╋   ╋━━━╋   ╋   ╋━━━╋   ╋━━━╋   ╋━━━╋   ╋   ╋   ╋   ┫\n",
      "┃               ┃   ┃                   ┃       ┃   ┃   ┃   ┃\n",
      "┣   ╋   ╋   ╋   ╋   ╋   ╋   ╋━━━╋   ╋━━━╋━━━╋   ╋   ╋   ╋━━━┫\n",
      "┃   ┃   ┃   ┃           ┃   ┃       ┃       ┃               ┃\n",
      "┣━━━╋   ╋   ╋━━━╋   ╋━━━╋   ╋   ╋━━━╋━━━╋   ╋   ╋   ╋━━━╋   ┫\n",
      "┃   ┃   ┃   ┃   ┃   ┃       ┃   ┃           ┃   ┃   ┃       ┃\n",
      "┣   ╋━━━╋━━━╋   ╋   ╋━━━╋   ╋━━━╋━━━╋   ╋   ╋   ╋   ╋━━━╋━━━┫\n",
      "┃           ┃       ┃   ┃   ┃       ┃   ┃       ┃   ┃       ┃\n",
      "┣━━━╋━━━╋   ╋   ╋━━━╋   ╋   ╋   ╋━━━╋   ╋   ╋━━━╋   ╋━━━╋   ┫\n",
      "┃   ┃   ┃   ┃       ┃   ┃           ┃   ┃   ┃       ┃       ┃\n",
      "┣   ╋   ╋   ╋   ╋   ╋   ╋━━━╋━━━╋   ╋━━━╋━━━╋   ╋   ╋   ╋   ┫\n",
      "┃           ┃   ┃   ┃           ┃   ┃           ┃       ┃   ┃\n",
      "┣   ╋   ╋━━━╋━━━╋━━━╋   ╋   ╋━━━╋   ╋   ╋━━━╋   ╋━━━╋   ╋   ┫\n",
      "┃   ┃       ┃       ┃   ┃           ┃   ┃       ┃       ┃   ┃\n",
      "┣   ╋   ╋━━━╋   ╋━━━╋   ╋━━━╋━━━╋━━━╋   ╋   ╋━━━╋━━━╋━━━╋━━━┫\n",
      "┃   ┃   ┃                   ┃   ┃   ┃   ┃           ┃       ┃\n",
      "┣   ╋━━━╋   ╋━━━╋   ╋   ╋━━━╋   ╋   ╋━━━╋   ╋━━━╋━━━╋   ╋━━━┫\n",
      "┃           ┃       ┃                   ┃       ┃   ┃   ┃   ┃\n",
      "┣   ╋━━━╋━━━╋━━━╋   ╋━━━╋   ╋   ╋━━━╋━━━╋   ╋━━━╋   ╋   ╋   ┫\n",
      "┃   ┃               ┃   ┃   ┃       ┃   ┃                   ┃\n",
      "┣   ╋━━━╋━━━╋   ╋━━━╋   ╋━━━╋━━━╋   ╋   ╋━━━╋━━━╋━━━╋   ╋━━━┫\n",
      "┃   ┃                           ┃   ┃               ┃   ┃   ┃\n",
      "┣   ╋━━━╋━━━╋   ╋━━━╋━━━╋━━━╋   ╋━━━╋━━━╋   ╋   ╋━━━╋   ╋   ┫\n",
      "┃           ┃       ┃   ┃   ┃   ┃           ┃               ┃\n",
      "┣━━━╋   ╋   ╋━━━╋   ╋   ╋   ╋   ╋━━━╋   ╋━━━╋━━━╋━━━╋   ╋━━━┫\n",
      "┃       ┃   ┃               ┃       ┃           ┃           ┃\n",
      "┗━━━┻━━━┻━━━┻━━━┻━━━┻━━━┻━━━┻━━━┻━━━┻━━━┻━━━┻━━━┻━━━┻━━━┻━━━┛\n",
      "\n"
     ]
    }
   ],
   "source": [
    "laby = Maze.gen_fusion(15,15)\n",
    "print(laby)"
   ]
  },
  {
   "cell_type": "markdown",
   "metadata": {},
   "source": [
    "<br>\n",
    "\n",
    "## 5.4 Exploration exhaustive\n",
    "\n",
    "<br>\n",
    "\n",
    "<u>**Algorithme de génération par exploration**</u>\n",
    " \n",
    "```\n",
    "- Initialisation :\n",
    "    - Choisir une cellule au hasard\n",
    "    - Marquer cette cellule comme étant visitée\n",
    "    - Mettre cette cellule dans sur une pile\n",
    "- Tant que la pile n’est pas vide :\n",
    "    - Prendre la cellule en haut de la pile et l’en retirer\n",
    "    - Si cette cellule a des voisins qui n’ont pas encore été visités :\n",
    "        - La remettre sur la pile\n",
    "        - Choisir au hasard l’une de ses cellules contigües qui n’a pas été visitée\n",
    "        - Casser le mur entre la cellule (celle qui a été dépilée) et celle qui vient d’être choisie\n",
    "        - Marquer la cellule qui vient d’être choisie comme visitée\n",
    "        - Et la mettre sur la pile\n",
    "```"
   ]
  },
  {
   "cell_type": "markdown",
   "metadata": {},
   "source": [
    "\n",
    "<br>\n",
    "\n",
    "#### **A Faire 6**\n",
    "\n",
    "Écrire une **méthode de classe gen_exploration(h,w)** qui génère un labyrinthe, à h lignes et w colonnes, parfait, avec l’algorithme d’**exploration exhaustive**.\n",
    "\n",
    "<br>"
   ]
  },
  {
   "cell_type": "code",
   "execution_count": 60,
   "metadata": {},
   "outputs": [
    {
     "name": "stdout",
     "output_type": "stream",
     "text": [
      "┏━━━┳━━━┳━━━┳━━━┳━━━┳━━━┳━━━┳━━━┳━━━┳━━━┳━━━┳━━━┳━━━┳━━━┳━━━┓\n",
      "┃               ┃                       ┃       ┃           ┃\n",
      "┣━━━╋━━━╋   ╋   ╋   ╋━━━╋━━━╋   ╋━━━╋   ╋   ╋   ╋━━━╋━━━╋   ┫\n",
      "┃           ┃   ┃       ┃       ┃           ┃               ┃\n",
      "┣   ╋━━━╋━━━╋   ╋   ╋━━━╋   ╋━━━╋━━━╋━━━╋━━━╋━━━╋━━━╋━━━╋   ┫\n",
      "┃   ┃           ┃   ┃       ┃               ┃           ┃   ┃\n",
      "┣   ╋━━━╋━━━╋   ╋━━━╋   ╋   ╋   ╋━━━╋━━━╋━━━╋━━━╋   ╋   ╋   ┫\n",
      "┃   ┃       ┃           ┃   ┃   ┃                   ┃   ┃   ┃\n",
      "┣   ╋   ╋   ╋━━━╋━━━╋━━━╋━━━╋   ╋   ╋━━━╋━━━╋━━━╋━━━╋━━━╋   ┫\n",
      "┃       ┃                       ┃   ┃           ┃       ┃   ┃\n",
      "┣━━━╋━━━╋━━━╋━━━╋━━━╋━━━╋━━━╋━━━╋   ╋   ╋━━━╋   ╋   ╋   ╋   ┫\n",
      "┃       ┃                   ┃           ┃   ┃       ┃       ┃\n",
      "┣   ╋   ╋   ╋━━━╋   ╋━━━╋━━━╋   ╋━━━╋━━━╋   ╋━━━╋━━━╋━━━╋━━━┫\n",
      "┃   ┃   ┃   ┃   ┃               ┃                           ┃\n",
      "┣━━━╋   ╋   ╋   ╋━━━╋━━━╋━━━╋━━━╋   ╋━━━╋━━━╋━━━╋━━━╋━━━╋   ┫\n",
      "┃       ┃       ┃       ┃   ┃               ┃       ┃       ┃\n",
      "┣   ╋━━━╋━━━╋   ╋   ╋   ╋   ╋   ╋━━━╋━━━╋   ╋   ╋   ╋━━━╋   ┫\n",
      "┃           ┃   ┃   ┃       ┃   ┃       ┃       ┃       ┃   ┃\n",
      "┣   ╋━━━╋   ╋   ╋   ╋━━━╋   ╋   ╋   ╋   ╋━━━╋━━━╋━━━╋   ╋   ┫\n",
      "┃   ┃   ┃       ┃   ┃       ┃   ┃   ┃   ┃               ┃   ┃\n",
      "┣   ╋   ╋━━━╋━━━╋   ╋━━━╋   ╋   ╋   ╋   ╋   ╋━━━╋━━━╋━━━╋   ┫\n",
      "┃   ┃                   ┃   ┃   ┃   ┃   ┃   ┃           ┃   ┃\n",
      "┣   ╋━━━╋━━━╋   ╋━━━╋   ╋━━━╋   ╋   ╋   ╋   ╋   ╋   ╋━━━╋   ┫\n",
      "┃   ┃       ┃       ┃               ┃   ┃   ┃   ┃   ┃       ┃\n",
      "┣   ╋   ╋   ╋━━━╋   ╋━━━╋━━━╋━━━╋━━━╋━━━╋   ╋   ╋   ╋   ╋━━━┫\n",
      "┃       ┃       ┃       ┃                   ┃   ┃       ┃   ┃\n",
      "┣━━━╋━━━╋━━━╋   ╋━━━╋━━━╋   ╋━━━╋━━━╋━━━╋━━━╋   ╋━━━╋━━━╋   ┫\n",
      "┃       ┃       ┃       ┃   ┃       ┃       ┃   ┃           ┃\n",
      "┣   ╋━━━╋   ╋━━━╋   ╋   ╋   ╋   ╋   ╋   ╋   ╋   ╋   ╋━━━╋   ┫\n",
      "┃                   ┃       ┃   ┃       ┃           ┃       ┃\n",
      "┗━━━┻━━━┻━━━┻━━━┻━━━┻━━━┻━━━┻━━━┻━━━┻━━━┻━━━┻━━━┻━━━┻━━━┻━━━┛\n",
      "\n"
     ]
    }
   ],
   "source": [
    "laby = Maze.gen_exploration(15,15)\n",
    "print(laby)"
   ]
  },
  {
   "cell_type": "markdown",
   "metadata": {},
   "source": [
    "<br>\n",
    "\n",
    "## 5.5 L'algorithme de Wilson\n",
    "\n",
    "<br>\n",
    "\n",
    "<u>**Algorithme de Wilson**</u>\n",
    " \n",
    "```\n",
    "- Choisir une cellule au hasard sur la grille et la marquer\n",
    "- Tant qu’il reste des cellules non marquées :\n",
    "    - Choisir une cellule de départ au hasard, parmi les cellules non marquées\n",
    "    - Effectuer une marche aléatoire jusqu’à ce qu’une cellule marquée soit atteinte (en cas de boucle, si la tête du snake se \n",
    "      mord la queue, « couper » la boucle formée [autrement dit, supprimer toutes étapes depuis le précédent passage])\n",
    "    - Marquer chaque cellule du chemin, et casser tous les murs rencontrés, jusqu’à la cellule marquée\n",
    "```"
   ]
  },
  {
   "cell_type": "markdown",
   "metadata": {},
   "source": [
    "\n",
    "<br>\n",
    "\n",
    "#### **A Faire 7**\n",
    "\n",
    "Écrire une méthode de classe **gen_wilson** qui implémente cet algorithme.\n",
    "\n",
    "<br>"
   ]
  },
  {
   "cell_type": "code",
   "execution_count": 61,
   "metadata": {},
   "outputs": [],
   "source": [
    "#laby = Maze.gen_wilson(12, 12)\n",
    "#print(laby)"
   ]
  },
  {
   "attachments": {},
   "cell_type": "markdown",
   "metadata": {},
   "source": [
    "<br>\n",
    "<br>\n",
    "<br>\n",
    "\n",
    "# **6 Résolution**\n",
    "\n",
    "[Table des matières](#table-des-matières)\n",
    "\n",
    "<br>\n",
    "\n",
    "## 6.1 Résolution par parcours\n",
    "\n",
    "<br>\n",
    "\n",
    "<u>**Algorithme de résolution par parcours (pour aller de la cellule D à la cellule A)**</u>\n",
    " \n",
    " <br>\n",
    "\n",
    "**Parcours du graphe jusqu’à ce qu’on trouve A**  \n",
    "\n",
    "```\n",
    "- Initialisation :\n",
    "    - Placer D dans la struture d’attente (file ou pile) et marquer D\n",
    "    - Mémoriser l’élément prédécesseur de D comme étant D\n",
    "- Tant qu’il reste des cellules non-marquées :\n",
    "    - Prendre la « première » cellule et la retirer de la structure (appelons c, cette cellule)\n",
    "    - Si c correspond à A :\n",
    "        - C’est terminé, on a trouvé un chemin vers la cellule de destination\n",
    "    - Sinon :\n",
    "        - Pour chaque voisine de c :\n",
    "            - Si elle n’est pas marquée :\n",
    "                - La marquer\n",
    "                - La mettre dans la structure d’attente\n",
    "                - Mémoriser son prédécesseur comme étant c\n",
    "```\n",
    "\n",
    "**Reconstruction du chemin à partir des prédécesseurs**\n",
    "\n",
    "```\n",
    "- Initialiser c à A\n",
    "- Tant que c n’est pas D :\n",
    "    - ajouter c au chemin\n",
    "    - mettre le prédécesseur de c dans c\n",
    "- Ajouter D au chemin\n",
    "\n",
    "- Retourner le chemin\n",
    "```\n",
    "\n",
    "<br>\n",
    "\n",
    "#### **A Faire 8**\n",
    "\n",
    "Implémentez cet algorithme dans une méthode d’instance **solve_dfs(start, stop)** qui prend la cellule de départ et la cellule d’arrivée comme arguments. Créer ensuite une méthode **solve_bfs(start, stop)** qui implémente cette fois un parcours en largeur.\n",
    "\n",
    "<br>"
   ]
  },
  {
   "cell_type": "code",
   "execution_count": 62,
   "metadata": {},
   "outputs": [
    {
     "name": "stdout",
     "output_type": "stream",
     "text": [
      "┏━━━┳━━━┳━━━┳━━━┳━━━┳━━━┳━━━┳━━━┳━━━┳━━━┳━━━┳━━━┳━━━┳━━━┳━━━┓\n",
      "┃ D   *   *   * ┃ *   * ┃       ┃       ┃           ┃   ┃   ┃\n",
      "┣   ╋━━━╋   ╋   ╋   ╋   ╋   ╋━━━╋━━━╋   ╋━━━╋━━━╋   ╋   ╋   ┫\n",
      "┃   ┃       ┃ *   * ┃ *   *   *   * ┃               ┃   ┃   ┃\n",
      "┣━━━╋━━━╋   ╋━━━╋━━━╋━━━╋━━━╋━━━╋   ╋━━━╋━━━╋   ╋   ╋   ╋   ┫\n",
      "┃                           ┃   ┃ *     ┃       ┃   ┃       ┃\n",
      "┣   ╋━━━╋━━━╋━━━╋━━━╋━━━╋   ╋   ╋   ╋━━━╋   ╋━━━╋   ╋   ╋━━━┫\n",
      "┃       ┃           ┃           ┃ * ┃ *   *   * ┃   ┃   ┃   ┃\n",
      "┣   ╋━━━╋━━━╋   ╋   ╋   ╋━━━╋   ╋   ╋   ╋━━━╋   ╋━━━╋   ╋   ┫\n",
      "┃   ┃           ┃   ┃   ┃   ┃   ┃ *   * ┃     *         ┃   ┃\n",
      "┣━━━╋   ╋   ╋━━━╋━━━╋━━━╋   ╋   ╋━━━╋━━━╋━━━╋   ╋━━━╋   ╋   ┫\n",
      "┃       ┃           ┃       ┃               ┃ *     ┃       ┃\n",
      "┣   ╋━━━╋   ╋   ╋━━━╋━━━╋   ╋   ╋━━━╋━━━╋━━━╋   ╋━━━╋   ╋   ┫\n",
      "┃       ┃   ┃                   ┃   ┃     *   *     ┃   ┃   ┃\n",
      "┣   ╋━━━╋━━━╋━━━╋━━━╋   ╋   ╋   ╋   ╋━━━╋   ╋━━━╋━━━╋━━━╋   ┫\n",
      "┃   ┃       ┃           ┃   ┃       ┃     *     ┃       ┃   ┃\n",
      "┣━━━╋   ╋━━━╋━━━╋   ╋   ╋━━━╋   ╋━━━╋━━━╋   ╋   ╋━━━╋   ╋━━━┫\n",
      "┃       ┃           ┃   ┃   ┃           ┃ * ┃   ┃       ┃   ┃\n",
      "┣   ╋━━━╋   ╋━━━╋━━━╋   ╋   ╋━━━╋━━━╋━━━╋   ╋━━━╋   ╋━━━╋   ┫\n",
      "┃               ┃       ┃         *   *   *                 ┃\n",
      "┣   ╋   ╋━━━╋━━━╋   ╋━━━╋━━━╋━━━╋   ╋━━━╋   ╋━━━╋   ╋━━━╋   ┫\n",
      "┃   ┃       ┃   ┃   ┃   ┃   ┃     *   * ┃       ┃   ┃       ┃\n",
      "┣━━━╋━━━╋━━━╋   ╋━━━╋   ╋   ╋   ╋━━━╋   ╋━━━╋━━━╋━━━╋   ╋   ┫\n",
      "┃           ┃           ┃       ┃   ┃ *         ┃       ┃   ┃\n",
      "┣━━━╋━━━╋   ╋━━━╋   ╋━━━╋━━━╋━━━╋   ╋   ╋━━━╋━━━╋━━━╋   ╋━━━┫\n",
      "┃           ┃   ┃                     * ┃           ┃       ┃\n",
      "┣━━━╋━━━╋   ╋   ╋   ╋   ╋━━━╋   ╋━━━╋   ╋━━━╋━━━╋   ╋━━━╋━━━┫\n",
      "┃                   ┃   ┃           ┃ *   * ┃       ┃       ┃\n",
      "┣   ╋   ╋   ╋━━━╋   ╋━━━╋━━━╋   ╋━━━╋━━━╋   ╋━━━╋   ╋   ╋━━━┫\n",
      "┃   ┃   ┃       ┃   ┃               ┃     *   *   *   *   A ┃\n",
      "┗━━━┻━━━┻━━━┻━━━┻━━━┻━━━┻━━━┻━━━┻━━━┻━━━┻━━━┻━━━┻━━━┻━━━┻━━━┛\n",
      "\n",
      "┏━━━┳━━━┳━━━┳━━━┳━━━┳━━━┳━━━┳━━━┳━━━┳━━━┳━━━┳━━━┳━━━┳━━━┳━━━┓\n",
      "┃ D   *   *   * ┃ *   * ┃       ┃       ┃           ┃   ┃   ┃\n",
      "┣   ╋━━━╋   ╋   ╋   ╋   ╋   ╋━━━╋━━━╋   ╋━━━╋━━━╋   ╋   ╋   ┫\n",
      "┃   ┃       ┃ *   * ┃ *   *   *   * ┃               ┃   ┃   ┃\n",
      "┣━━━╋━━━╋   ╋━━━╋━━━╋━━━╋━━━╋━━━╋   ╋━━━╋━━━╋   ╋   ╋   ╋   ┫\n",
      "┃                           ┃   ┃ *     ┃       ┃   ┃       ┃\n",
      "┣   ╋━━━╋━━━╋━━━╋━━━╋━━━╋   ╋   ╋   ╋━━━╋   ╋━━━╋   ╋   ╋━━━┫\n",
      "┃       ┃           ┃           ┃ * ┃ *   *   * ┃   ┃   ┃   ┃\n",
      "┣   ╋━━━╋━━━╋   ╋   ╋   ╋━━━╋   ╋   ╋   ╋━━━╋   ╋━━━╋   ╋   ┫\n",
      "┃   ┃           ┃   ┃   ┃   ┃   ┃ *   * ┃     *         ┃   ┃\n",
      "┣━━━╋   ╋   ╋━━━╋━━━╋━━━╋   ╋   ╋━━━╋━━━╋━━━╋   ╋━━━╋   ╋   ┫\n",
      "┃       ┃           ┃       ┃               ┃ *     ┃       ┃\n",
      "┣   ╋━━━╋   ╋   ╋━━━╋━━━╋   ╋   ╋━━━╋━━━╋━━━╋   ╋━━━╋   ╋   ┫\n",
      "┃       ┃   ┃                   ┃   ┃     *   *     ┃   ┃   ┃\n",
      "┣   ╋━━━╋━━━╋━━━╋━━━╋   ╋   ╋   ╋   ╋━━━╋   ╋━━━╋━━━╋━━━╋   ┫\n",
      "┃   ┃       ┃           ┃   ┃       ┃     *     ┃       ┃   ┃\n",
      "┣━━━╋   ╋━━━╋━━━╋   ╋   ╋━━━╋   ╋━━━╋━━━╋   ╋   ╋━━━╋   ╋━━━┫\n",
      "┃       ┃           ┃   ┃   ┃           ┃ * ┃   ┃       ┃   ┃\n",
      "┣   ╋━━━╋   ╋━━━╋━━━╋   ╋   ╋━━━╋━━━╋━━━╋   ╋━━━╋   ╋━━━╋   ┫\n",
      "┃               ┃       ┃         *   *   *                 ┃\n",
      "┣   ╋   ╋━━━╋━━━╋   ╋━━━╋━━━╋━━━╋   ╋━━━╋   ╋━━━╋   ╋━━━╋   ┫\n",
      "┃   ┃       ┃   ┃   ┃   ┃   ┃     *   * ┃       ┃   ┃       ┃\n",
      "┣━━━╋━━━╋━━━╋   ╋━━━╋   ╋   ╋   ╋━━━╋   ╋━━━╋━━━╋━━━╋   ╋   ┫\n",
      "┃           ┃           ┃       ┃   ┃ *         ┃       ┃   ┃\n",
      "┣━━━╋━━━╋   ╋━━━╋   ╋━━━╋━━━╋━━━╋   ╋   ╋━━━╋━━━╋━━━╋   ╋━━━┫\n",
      "┃           ┃   ┃                     * ┃           ┃       ┃\n",
      "┣━━━╋━━━╋   ╋   ╋   ╋   ╋━━━╋   ╋━━━╋   ╋━━━╋━━━╋   ╋━━━╋━━━┫\n",
      "┃                   ┃   ┃           ┃ *   * ┃       ┃       ┃\n",
      "┣   ╋   ╋   ╋━━━╋   ╋━━━╋━━━╋   ╋━━━╋━━━╋   ╋━━━╋   ╋   ╋━━━┫\n",
      "┃   ┃   ┃       ┃   ┃               ┃     *   *   *   *   A ┃\n",
      "┗━━━┻━━━┻━━━┻━━━┻━━━┻━━━┻━━━┻━━━┻━━━┻━━━┻━━━┻━━━┻━━━┻━━━┻━━━┛\n",
      "\n"
     ]
    }
   ],
   "source": [
    "laby = Maze.gen_fusion(15, 15)\n",
    "solution = laby.solve_dfs((0, 0), (14, 14))\n",
    "str_solution = {c:'*' for c in solution}\n",
    "str_solution[( 0,  0)] = 'D'\n",
    "str_solution[(14, 14)] = 'A'\n",
    "print(laby.overlay(str_solution))\n",
    "\n",
    "solution = laby.solve_bfs((0, 0), (14, 14))\n",
    "str_solution = {c:'*' for c in solution}\n",
    "str_solution[( 0,  0)] = 'D'\n",
    "str_solution[(14, 14)] = 'A'\n",
    "print(laby.overlay(str_solution))"
   ]
  },
  {
   "cell_type": "code",
   "execution_count": 63,
   "metadata": {},
   "outputs": [
    {
     "name": "stdout",
     "output_type": "stream",
     "text": [
      "┏━━━┳━━━┳━━━┳━━━┳━━━┳━━━┳━━━┳━━━┳━━━┳━━━┳━━━┳━━━┳━━━┳━━━┳━━━┓\n",
      "┃ D   *     ┃ *   *   *   *   *   *   *   *   *   *   * ┃   ┃\n",
      "┣   ╋   ╋━━━╋   ╋━━━╋━━━╋   ╋━━━╋━━━╋━━━╋━━━╋━━━╋━━━╋   ╋   ┫\n",
      "┃   ┃ *   *   * ┃           ┃   ┃           ┃ *   *   * ┃   ┃\n",
      "┣   ╋━━━╋━━━╋━━━╋   ╋━━━╋━━━╋   ╋   ╋   ╋━━━╋   ╋━━━╋━━━╋   ┫\n",
      "┃           ┃       ┃               ┃       ┃ * ┃ *   *   * ┃\n",
      "┣━━━╋   ╋━━━╋   ╋   ╋━━━╋━━━╋━━━╋━━━╋   ╋   ╋   ╋   ╋━━━╋   ┫\n",
      "┃       ┃       ┃   ┃               ┃   ┃   ┃ * ┃ * ┃   ┃ * ┃\n",
      "┣   ╋━━━╋   ╋━━━╋━━━╋   ╋━━━╋━━━╋   ╋━━━╋   ╋   ╋   ╋   ╋   ┫\n",
      "┃       ┃           ┃   ┃       ┃       ┃     * ┃ * ┃ *   * ┃\n",
      "┣━━━╋━━━╋━━━╋━━━╋   ╋   ╋   ╋━━━╋━━━╋   ╋━━━╋   ╋   ╋   ╋━━━┫\n",
      "┃                   ┃   ┃           ┃       ┃ *   * ┃ *   * ┃\n",
      "┣   ╋━━━╋━━━╋━━━╋━━━╋   ╋   ╋━━━╋   ╋━━━╋   ╋━━━╋━━━╋━━━╋   ┫\n",
      "┃   ┃       ┃           ┃   ┃   ┃       ┃   ┃   ┃ *   * ┃ * ┃\n",
      "┣   ╋   ╋   ╋   ╋━━━╋━━━╋   ╋   ╋━━━╋   ╋   ╋   ╋   ╋   ╋   ┫\n",
      "┃   ┃   ┃   ┃       ┃   ┃   ┃       ┃   ┃   ┃ *   * ┃ *   * ┃\n",
      "┣   ╋   ╋   ╋━━━╋━━━╋   ╋   ╋   ╋   ╋   ╋   ╋   ╋━━━╋━━━╋━━━┫\n",
      "┃       ┃           ┃       ┃   ┃   ┃   ┃   ┃ * ┃           ┃\n",
      "┣━━━╋━━━╋━━━╋   ╋   ╋   ╋━━━╋━━━╋   ╋   ╋   ╋   ╋━━━╋━━━╋   ┫\n",
      "┃               ┃   ┃           ┃   ┃       ┃ * ┃ *   *   * ┃\n",
      "┣   ╋━━━╋   ╋━━━╋━━━╋━━━╋━━━╋   ╋   ╋━━━╋━━━╋   ╋   ╋━━━╋   ┫\n",
      "┃   ┃       ┃               ┃           ┃   ┃ *   * ┃   ┃ * ┃\n",
      "┣   ╋━━━╋━━━╋   ╋   ╋━━━╋━━━╋━━━╋━━━╋   ╋   ╋━━━╋━━━╋   ╋   ┫\n",
      "┃               ┃       ┃       ┃       ┃       ┃       ┃ * ┃\n",
      "┣   ╋━━━╋━━━╋━━━╋━━━╋   ╋   ╋   ╋   ╋━━━╋   ╋   ╋   ╋━━━╋   ┫\n",
      "┃   ┃               ┃   ┃   ┃       ┃       ┃       ┃ *   * ┃\n",
      "┣   ╋━━━╋━━━╋   ╋━━━╋   ╋   ╋━━━╋━━━╋   ╋   ╋━━━╋   ╋   ╋━━━┫\n",
      "┃   ┃           ┃       ┃           ┃   ┃       ┃   ┃ *   * ┃\n",
      "┣   ╋   ╋━━━╋   ╋   ╋━━━╋━━━╋━━━╋   ╋   ╋━━━╋   ╋━━━╋━━━╋   ┫\n",
      "┃       ┃       ┃                   ┃       ┃             A ┃\n",
      "┗━━━┻━━━┻━━━┻━━━┻━━━┻━━━┻━━━┻━━━┻━━━┻━━━┻━━━┻━━━┻━━━┻━━━┻━━━┛\n",
      "\n",
      "┏━━━┳━━━┳━━━┳━━━┳━━━┳━━━┳━━━┳━━━┳━━━┳━━━┳━━━┳━━━┳━━━┳━━━┳━━━┓\n",
      "┃ D   *     ┃ *   *   *   *   *   *   *   *   *   *   * ┃   ┃\n",
      "┣   ╋   ╋━━━╋   ╋━━━╋━━━╋   ╋━━━╋━━━╋━━━╋━━━╋━━━╋━━━╋   ╋   ┫\n",
      "┃   ┃ *   *   * ┃           ┃   ┃           ┃ *   *   * ┃   ┃\n",
      "┣   ╋━━━╋━━━╋━━━╋   ╋━━━╋━━━╋   ╋   ╋   ╋━━━╋   ╋━━━╋━━━╋   ┫\n",
      "┃           ┃       ┃               ┃       ┃ * ┃ *   *   * ┃\n",
      "┣━━━╋   ╋━━━╋   ╋   ╋━━━╋━━━╋━━━╋━━━╋   ╋   ╋   ╋   ╋━━━╋   ┫\n",
      "┃       ┃       ┃   ┃               ┃   ┃   ┃ * ┃ * ┃   ┃ * ┃\n",
      "┣   ╋━━━╋   ╋━━━╋━━━╋   ╋━━━╋━━━╋   ╋━━━╋   ╋   ╋   ╋   ╋   ┫\n",
      "┃       ┃           ┃   ┃       ┃       ┃     * ┃ * ┃ *   * ┃\n",
      "┣━━━╋━━━╋━━━╋━━━╋   ╋   ╋   ╋━━━╋━━━╋   ╋━━━╋   ╋   ╋   ╋━━━┫\n",
      "┃                   ┃   ┃           ┃       ┃ *   * ┃ *   * ┃\n",
      "┣   ╋━━━╋━━━╋━━━╋━━━╋   ╋   ╋━━━╋   ╋━━━╋   ╋━━━╋━━━╋━━━╋   ┫\n",
      "┃   ┃       ┃           ┃   ┃   ┃       ┃   ┃   ┃ *   * ┃ * ┃\n",
      "┣   ╋   ╋   ╋   ╋━━━╋━━━╋   ╋   ╋━━━╋   ╋   ╋   ╋   ╋   ╋   ┫\n",
      "┃   ┃   ┃   ┃       ┃   ┃   ┃       ┃   ┃   ┃ *   * ┃ *   * ┃\n",
      "┣   ╋   ╋   ╋━━━╋━━━╋   ╋   ╋   ╋   ╋   ╋   ╋   ╋━━━╋━━━╋━━━┫\n",
      "┃       ┃           ┃       ┃   ┃   ┃   ┃   ┃ * ┃           ┃\n",
      "┣━━━╋━━━╋━━━╋   ╋   ╋   ╋━━━╋━━━╋   ╋   ╋   ╋   ╋━━━╋━━━╋   ┫\n",
      "┃               ┃   ┃           ┃   ┃       ┃ * ┃ *   *   * ┃\n",
      "┣   ╋━━━╋   ╋━━━╋━━━╋━━━╋━━━╋   ╋   ╋━━━╋━━━╋   ╋   ╋━━━╋   ┫\n",
      "┃   ┃       ┃               ┃           ┃   ┃ *   * ┃   ┃ * ┃\n",
      "┣   ╋━━━╋━━━╋   ╋   ╋━━━╋━━━╋━━━╋━━━╋   ╋   ╋━━━╋━━━╋   ╋   ┫\n",
      "┃               ┃       ┃       ┃       ┃       ┃       ┃ * ┃\n",
      "┣   ╋━━━╋━━━╋━━━╋━━━╋   ╋   ╋   ╋   ╋━━━╋   ╋   ╋   ╋━━━╋   ┫\n",
      "┃   ┃               ┃   ┃   ┃       ┃       ┃       ┃ *   * ┃\n",
      "┣   ╋━━━╋━━━╋   ╋━━━╋   ╋   ╋━━━╋━━━╋   ╋   ╋━━━╋   ╋   ╋━━━┫\n",
      "┃   ┃           ┃       ┃           ┃   ┃       ┃   ┃ *   * ┃\n",
      "┣   ╋   ╋━━━╋   ╋   ╋━━━╋━━━╋━━━╋   ╋   ╋━━━╋   ╋━━━╋━━━╋   ┫\n",
      "┃       ┃       ┃                   ┃       ┃             A ┃\n",
      "┗━━━┻━━━┻━━━┻━━━┻━━━┻━━━┻━━━┻━━━┻━━━┻━━━┻━━━┻━━━┻━━━┻━━━┻━━━┛\n",
      "\n"
     ]
    }
   ],
   "source": [
    "laby = Maze.gen_exploration(15, 15)\n",
    "solution = laby.solve_dfs((0, 0), (14, 14))\n",
    "str_solution = {c:'*' for c in solution}\n",
    "str_solution[( 0,  0)] = 'D'\n",
    "str_solution[(14, 14)] = 'A'\n",
    "print(laby.overlay(str_solution))\n",
    "\n",
    "solution = laby.solve_bfs((0, 0), (14, 14))\n",
    "str_solution = {c:'*' for c in solution}\n",
    "str_solution[( 0,  0)] = 'D'\n",
    "str_solution[(14, 14)] = 'A'\n",
    "print(laby.overlay(str_solution))"
   ]
  },
  {
   "attachments": {},
   "cell_type": "markdown",
   "metadata": {},
   "source": [
    "<br>\n",
    "\n",
    "## 6.2 Résolution en aveugle : \"la main droite\"\n",
    "\n",
    "<br>"
   ]
  },
  {
   "cell_type": "code",
   "execution_count": 64,
   "metadata": {},
   "outputs": [
    {
     "data": {
      "text/plain": [
       "\"\\nlaby = Maze.gen_fusion(15, 15)\\nsolution = laby.solve_rhr((0, 0), (14, 14))\\nstr_solution = {c:'*' for c in solution}\\nstr_solution[( 0,  0)] = 'D'\\nstr_solution[(14, 14)] = 'A'\\nprint(laby.overlay(str_solution))\\n\""
      ]
     },
     "execution_count": 64,
     "metadata": {},
     "output_type": "execute_result"
    }
   ],
   "source": [
    "\"\"\"\n",
    "laby = Maze.gen_fusion(15, 15)\n",
    "solution = laby.solve_rhr((0, 0), (14, 14))\n",
    "str_solution = {c:'*' for c in solution}\n",
    "str_solution[( 0,  0)] = 'D'\n",
    "str_solution[(14, 14)] = 'A'\n",
    "print(laby.overlay(str_solution))\n",
    "\"\"\""
   ]
  },
  {
   "attachments": {},
   "cell_type": "markdown",
   "metadata": {},
   "source": [
    "<br>\n",
    "<br>\n",
    "<br>\n",
    "\n",
    "# **7 Evaluation**\n",
    "\n",
    "[Table des matières](#table-des-matières)\n",
    "\n",
    "<br>\n",
    "\n",
    "#### **A Faire 9**\n",
    "\n",
    "Écrire une méthode d’instance **distance_geo(c1, c2)** qui calcule la distance « géodésique » entre la cellule **c1** et la cellule **c2** (vous pourrez utiliser une des méthodes de résolution implémentées avant), c’est à dire le nombre minimal de déplacements nécessaires sur le graphe pour aller de **c1** à **c2**.\n",
    "\n",
    "Écrire une méthode d’instance **distance_man(c1, c2)** qui calcule la distance de Manhattan, **sur la grille**, entre la cellule **c1** et la cellule **c2**, c’est à dire le nombre minimal de déplacements nécessaires pour aller de **c2** à **c1** si le labyrinthe était vide de tout mur.\n",
    "\n",
    "<br>"
   ]
  },
  {
   "cell_type": "code",
   "execution_count": 65,
   "metadata": {},
   "outputs": [
    {
     "data": {
      "text/plain": [
       "\" \\n#Simple visualisation personnelle des chemins\\n\\nprint(laby.distance_geo((0,0),(7,7)))\\nsolution = laby.solve_bfs((0, 0), (7, 7))\\nstr_solution = {c:'*' for c in solution}\\nstr_solution[( 0,  0)] = 'D'\\nstr_solution[(7, 7)] = 'A'\\nprint(laby.overlay(str_solution))\\n\""
      ]
     },
     "execution_count": 65,
     "metadata": {},
     "output_type": "execute_result"
    }
   ],
   "source": [
    "laby = Maze.gen_fusion(15, 15)\n",
    "\"\"\" \n",
    "#Simple visualisation personnelle des chemins\n",
    "\n",
    "print(laby.distance_geo((0,0),(7,7)))\n",
    "solution = laby.solve_bfs((0, 0), (7, 7))\n",
    "str_solution = {c:'*' for c in solution}\n",
    "str_solution[( 0,  0)] = 'D'\n",
    "str_solution[(7, 7)] = 'A'\n",
    "print(laby.overlay(str_solution))\n",
    "\"\"\""
   ]
  },
  {
   "cell_type": "code",
   "execution_count": 66,
   "metadata": {},
   "outputs": [
    {
     "data": {
      "text/plain": [
       "\" \\n#Simple visualisation personnelle des chemins\\n\\nprint(laby.distance_man((0,0),(7,7)))\\nlaby.be_empty()\\nsolution = laby.solve_bfs((0, 0), (7, 7))\\nstr_solution = {c:'*' for c in solution}\\nstr_solution[( 0,  0)] = 'D'\\nstr_solution[(7, 7)] = 'A'\\nprint(laby.overlay(str_solution))\\n\""
      ]
     },
     "execution_count": 66,
     "metadata": {},
     "output_type": "execute_result"
    }
   ],
   "source": [
    "laby = Maze.gen_fusion(15, 15)\n",
    "\"\"\" \n",
    "#Simple visualisation personnelle des chemins\n",
    "\n",
    "print(laby.distance_man((0,0),(7,7)))\n",
    "laby.be_empty()\n",
    "solution = laby.solve_bfs((0, 0), (7, 7))\n",
    "str_solution = {c:'*' for c in solution}\n",
    "str_solution[( 0,  0)] = 'D'\n",
    "str_solution[(7, 7)] = 'A'\n",
    "print(laby.overlay(str_solution))\n",
    "\"\"\""
   ]
  },
  {
   "attachments": {},
   "cell_type": "markdown",
   "metadata": {},
   "source": [
    "<br>\n",
    "<br>\n",
    "<br>\n",
    "\n",
    "# **8 Partie BONUS non traitée**\n",
    "\n",
    "[Table des matières](#table-des-matières)\n",
    "\n",
    "<br>\n",
    "\n",
    "#### <u>**Fin du notebook jupyter**</u>"
   ]
  }
 ],
 "metadata": {
  "kernelspec": {
   "display_name": "Python 3 (ipykernel)",
   "language": "python",
   "name": "python3"
  },
  "language_info": {
   "codemirror_mode": {
    "name": "ipython",
    "version": 3
   },
   "file_extension": ".py",
   "mimetype": "text/x-python",
   "name": "python",
   "nbconvert_exporter": "python",
   "pygments_lexer": "ipython3",
   "version": "3.9.11"
  },
  "vscode": {
   "interpreter": {
    "hash": "ce513bf6edc7d59f12ef93630a20368786f328a24bb65f5280113f6f7a6321c9"
   }
  }
 },
 "nbformat": 4,
 "nbformat_minor": 2
}
